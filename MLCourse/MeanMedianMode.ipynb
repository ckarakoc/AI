{
 "cells": [
  {
   "cell_type": "markdown",
   "metadata": {},
   "source": [
    "# Mean, Median, Mode, and introducing NumPy"
   ]
  },
  {
   "cell_type": "markdown",
   "metadata": {},
   "source": [
    "## Mean vs. Median"
   ]
  },
  {
   "cell_type": "markdown",
   "metadata": {},
   "source": [
    "Let's create some fake income data, centered around 27,000 with a normal distribution and standard deviation of 15,000, with 10,000 data points. (We'll discuss those terms more later, if you're not familiar with them.)\n",
    "\n",
    "Then, compute the mean (average) - it should be close to 27,000:"
   ]
  },
  {
   "cell_type": "code",
   "metadata": {
    "ExecuteTime": {
     "end_time": "2025-02-22T14:41:19.262976Z",
     "start_time": "2025-02-22T14:41:19.256611Z"
    }
   },
   "source": [
    "import numpy as np\n",
    "\n",
    "incomes = np.random.normal(27000, 15000, 10000)\n",
    "np.mean(incomes)"
   ],
   "outputs": [
    {
     "data": {
      "text/plain": [
       "np.float64(26800.081676066624)"
      ]
     },
     "execution_count": 28,
     "metadata": {},
     "output_type": "execute_result"
    }
   ],
   "execution_count": 28
  },
  {
   "cell_type": "markdown",
   "metadata": {},
   "source": [
    "We can segment the income data into 50 buckets, and plot it as a histogram:"
   ]
  },
  {
   "cell_type": "code",
   "metadata": {
    "ExecuteTime": {
     "end_time": "2025-02-22T14:41:19.507106Z",
     "start_time": "2025-02-22T14:41:19.355879Z"
    }
   },
   "source": [
    "%matplotlib inline\n",
    "import matplotlib.pyplot as plt\n",
    "plt.hist(incomes, 50)\n",
    "plt.show()"
   ],
   "outputs": [
    {
     "data": {
      "text/plain": [
       "<Figure size 640x480 with 1 Axes>"
      ],
      "image/png": "[encoded data removed]"
     },
     "metadata": {},
     "output_type": "display_data"
    }
   ],
   "execution_count": 29
  },
  {
   "cell_type": "markdown",
   "metadata": {},
   "source": [
    "Now compute the median - since we have a nice, even distribution it too should be close to 27,000:"
   ]
  },
  {
   "metadata": {
    "ExecuteTime": {
     "end_time": "2025-02-22T14:41:19.530919Z",
     "start_time": "2025-02-22T14:41:19.525760Z"
    }
   },
   "cell_type": "code",
   "source": "np.median(incomes)",
   "outputs": [
    {
     "data": {
      "text/plain": [
       "np.float64(26687.276880382677)"
      ]
     },
     "execution_count": 30,
     "metadata": {},
     "output_type": "execute_result"
    }
   ],
   "execution_count": 30
  },
  {
   "cell_type": "markdown",
   "metadata": {},
   "source": [
    "Now we'll add Jeff Bezos into the mix. Darn income inequality!"
   ]
  },
  {
   "cell_type": "code",
   "metadata": {
    "ExecuteTime": {
     "end_time": "2025-02-22T14:41:19.558232Z",
     "start_time": "2025-02-22T14:41:19.553934Z"
    }
   },
   "source": [
    "incomes = np.append(incomes, [1000000000])"
   ],
   "outputs": [],
   "execution_count": 31
  },
  {
   "cell_type": "markdown",
   "metadata": {},
   "source": [
    "The median won't change much, but the mean does:"
   ]
  },
  {
   "cell_type": "code",
   "metadata": {
    "ExecuteTime": {
     "end_time": "2025-02-22T14:41:19.611413Z",
     "start_time": "2025-02-22T14:41:19.605675Z"
    }
   },
   "source": [
    "np.median(incomes)"
   ],
   "outputs": [
    {
     "data": {
      "text/plain": [
       "np.float64(26688.354886078723)"
      ]
     },
     "execution_count": 32,
     "metadata": {},
     "output_type": "execute_result"
    }
   ],
   "execution_count": 32
  },
  {
   "cell_type": "code",
   "metadata": {
    "ExecuteTime": {
     "end_time": "2025-02-22T14:41:19.644505Z",
     "start_time": "2025-02-22T14:41:19.638693Z"
    }
   },
   "source": [
    "np.mean(incomes)"
   ],
   "outputs": [
    {
     "data": {
      "text/plain": [
       "np.float64(126787.40293577303)"
      ]
     },
     "execution_count": 33,
     "metadata": {},
     "output_type": "execute_result"
    }
   ],
   "execution_count": 33
  },
  {
   "cell_type": "markdown",
   "metadata": {},
   "source": [
    "## Mode"
   ]
  },
  {
   "cell_type": "markdown",
   "metadata": {},
   "source": [
    "Next, let's generate some fake age data for 500 people:"
   ]
  },
  {
   "cell_type": "code",
   "metadata": {
    "ExecuteTime": {
     "end_time": "2025-02-22T14:41:19.685797Z",
     "start_time": "2025-02-22T14:41:19.678830Z"
    }
   },
   "source": [
    "ages = np.random.randint(18, high=90, size=500)\n",
    "ages"
   ],
   "outputs": [
    {
     "data": {
      "text/plain": [
       "array([25, 20, 70, 82, 27, 22, 66, 81, 18, 39, 18, 70, 82, 67, 69, 45, 57,\n",
       "       25, 76, 21, 55, 54, 32, 38, 43, 29, 74, 45, 18, 84, 53, 35, 81, 27,\n",
       "       77, 49, 26, 49, 31, 53, 32, 71, 45, 19, 54, 84, 31, 38, 57, 30, 51,\n",
       "       70, 24, 57, 47, 60, 28, 38, 55, 25, 80, 54, 25, 47, 41, 54, 24, 88,\n",
       "       24, 57, 79, 83, 81, 77, 86, 79, 44, 24, 65, 79, 79, 34, 89, 86, 67,\n",
       "       56, 61, 29, 21, 86, 50, 59, 42, 23, 38, 78, 35, 68, 70, 73, 84, 78,\n",
       "       67, 36, 39, 51, 18, 55, 23, 35, 40, 73, 53, 42, 44, 83, 66, 86, 64,\n",
       "       23, 87, 47, 83, 84, 18, 56, 85, 78, 31, 51, 88, 57, 82, 68, 39, 56,\n",
       "       26, 35, 51, 87, 88, 65, 21, 84, 60, 46, 71, 18, 35, 49, 29, 31, 24,\n",
       "       66, 22, 47, 32, 26, 77, 75, 47, 57, 33, 27, 41, 26, 70, 41, 36, 60,\n",
       "       23, 88, 63, 32, 43, 30, 29, 39, 55, 62, 50, 19, 20, 68, 77, 41, 89,\n",
       "       83, 65, 22, 66, 50, 88, 76, 66, 88, 18, 23, 76, 76, 76, 63, 35, 31,\n",
       "       69, 81, 80, 42, 19, 69, 62, 75, 45, 85, 81, 69, 18, 46, 24, 65, 38,\n",
       "       71, 35, 24, 25, 55, 47, 38, 84, 51, 56, 77, 56, 72, 26, 75, 64, 82,\n",
       "       82, 76, 37, 43, 89, 70, 76, 26, 55, 32, 57, 67, 40, 24, 25, 18, 23,\n",
       "       32, 32, 32, 39, 42, 58, 36, 71, 36, 43, 68, 68, 80, 38, 67, 34, 32,\n",
       "       23, 32, 55, 40, 86, 59, 30, 37, 58, 35, 49, 74, 51, 71, 73, 27, 56,\n",
       "       36, 43, 86, 75, 57, 68, 30, 28, 64, 38, 88, 50, 28, 87, 70, 69, 51,\n",
       "       63, 30, 18, 49, 40, 32, 62, 72, 71, 24, 38, 21, 71, 26, 70, 64, 43,\n",
       "       58, 79, 70, 75, 72, 40, 60, 55, 21, 59, 65, 27, 42, 86, 23, 49, 50,\n",
       "       39, 59, 86, 24, 50, 57, 82, 20, 60, 49, 28, 23, 73, 33, 37, 85, 27,\n",
       "       82, 72, 32, 28, 72, 19, 21, 66, 58, 66, 46, 89, 50, 32, 22, 18, 31,\n",
       "       47, 26, 18, 37, 21, 69, 72, 63, 80, 80, 79, 37, 78, 71, 67, 81, 45,\n",
       "       47, 78, 66, 46, 76, 79, 50, 68, 19, 81, 72, 73, 63, 58, 33, 18, 29,\n",
       "       63, 33, 23, 18, 63, 85, 77, 49, 55, 26, 52, 43, 58, 87, 34, 87, 78,\n",
       "       68, 37, 78, 79, 53, 74, 82, 59, 88, 45, 25, 43, 85, 27, 38, 40, 82,\n",
       "       68, 32, 75, 72, 71, 84, 43, 72, 40, 23, 19, 38, 30, 58, 59, 31, 31,\n",
       "       63, 41, 32, 32, 53, 68, 69, 64, 48, 54, 71, 82, 48, 79, 28, 26, 70,\n",
       "       40, 60, 89, 89, 79, 28, 86, 67, 19, 66, 47, 25, 52, 47, 68, 68, 59,\n",
       "       48, 55, 72, 18, 26, 63, 62], dtype=int32)"
      ]
     },
     "execution_count": 34,
     "metadata": {},
     "output_type": "execute_result"
    }
   ],
   "execution_count": 34
  },
  {
   "cell_type": "code",
   "metadata": {
    "ExecuteTime": {
     "end_time": "2025-02-22T14:41:19.718775Z",
     "start_time": "2025-02-22T14:41:19.712814Z"
    }
   },
   "source": [
    "from scipy import stats\n",
    "stats.mode(ages)"
   ],
   "outputs": [
    {
     "data": {
      "text/plain": [
       "ModeResult(mode=np.int32(32), count=np.int64(16))"
      ]
     },
     "execution_count": 35,
     "metadata": {},
     "output_type": "execute_result"
    }
   ],
   "execution_count": 35
  },
  {
   "cell_type": "code",
   "metadata": {
    "ExecuteTime": {
     "end_time": "2025-02-22T14:41:19.738601Z",
     "start_time": "2025-02-22T14:41:19.736101Z"
    }
   },
   "source": [],
   "outputs": [],
   "execution_count": null
  }
 ],
 "metadata": {
  "kernelspec": {
   "display_name": "Python 3",
   "language": "python",
   "name": "python3"
  },
  "language_info": {
   "codemirror_mode": {
    "name": "ipython",
    "version": 3
   },
   "file_extension": ".py",
   "mimetype": "text/x-python",
   "name": "python",
   "nbconvert_exporter": "python",
   "pygments_lexer": "ipython3",
   "version": "3.7.3"
  }
 },
 "nbformat": 4,
 "nbformat_minor": 1
}
